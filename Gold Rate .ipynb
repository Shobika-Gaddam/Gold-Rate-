{
 "cells": [
  {
   "cell_type": "code",
   "execution_count": 11,
   "id": "4d61d7e5",
   "metadata": {},
   "outputs": [
    {
     "name": "stdout",
     "output_type": "stream",
     "text": [
      "Requirement already satisfied: auto-py-to-exe in c:\\users\\shobi\\anaconda3\\lib\\site-packages (2.10.0)\n",
      "Requirement already satisfied: pyinstaller>=4.1 in c:\\users\\shobi\\anaconda3\\lib\\site-packages (from auto-py-to-exe) (4.5.1)\n",
      "Requirement already satisfied: Eel==0.12.4 in c:\\users\\shobi\\anaconda3\\lib\\site-packages (from auto-py-to-exe) (0.12.4)\n",
      "Requirement already satisfied: bottle in c:\\users\\shobi\\anaconda3\\lib\\site-packages (from Eel==0.12.4->auto-py-to-exe) (0.12.19)\n",
      "Requirement already satisfied: future in c:\\users\\shobi\\anaconda3\\lib\\site-packages (from Eel==0.12.4->auto-py-to-exe) (0.18.2)\n",
      "Requirement already satisfied: bottle-websocket in c:\\users\\shobi\\anaconda3\\lib\\site-packages (from Eel==0.12.4->auto-py-to-exe) (0.2.9)\n",
      "Requirement already satisfied: whichcraft in c:\\users\\shobi\\anaconda3\\lib\\site-packages (from Eel==0.12.4->auto-py-to-exe) (0.6.1)\n",
      "Requirement already satisfied: setuptools in c:\\users\\shobi\\anaconda3\\lib\\site-packages (from pyinstaller>=4.1->auto-py-to-exe) (52.0.0.post20210125)\n",
      "Requirement already satisfied: pefile>=2017.8.1 in c:\\users\\shobi\\anaconda3\\lib\\site-packages (from pyinstaller>=4.1->auto-py-to-exe) (2021.9.3)\n",
      "Requirement already satisfied: pyinstaller-hooks-contrib>=2020.6 in c:\\users\\shobi\\anaconda3\\lib\\site-packages (from pyinstaller>=4.1->auto-py-to-exe) (2021.3)\n",
      "Requirement already satisfied: altgraph in c:\\users\\shobi\\anaconda3\\lib\\site-packages (from pyinstaller>=4.1->auto-py-to-exe) (0.17.2)\n",
      "Requirement already satisfied: pywin32-ctypes>=0.2.0 in c:\\users\\shobi\\anaconda3\\lib\\site-packages (from pyinstaller>=4.1->auto-py-to-exe) (0.2.0)\n",
      "Requirement already satisfied: gevent-websocket in c:\\users\\shobi\\anaconda3\\lib\\site-packages (from bottle-websocket->Eel==0.12.4->auto-py-to-exe) (0.10.1)\n",
      "Requirement already satisfied: gevent in c:\\users\\shobi\\anaconda3\\lib\\site-packages (from gevent-websocket->bottle-websocket->Eel==0.12.4->auto-py-to-exe) (21.1.2)\n",
      "Requirement already satisfied: greenlet<2.0,>=0.4.17 in c:\\users\\shobi\\anaconda3\\lib\\site-packages (from gevent->gevent-websocket->bottle-websocket->Eel==0.12.4->auto-py-to-exe) (1.0.0)\n",
      "Requirement already satisfied: zope.event in c:\\users\\shobi\\anaconda3\\lib\\site-packages (from gevent->gevent-websocket->bottle-websocket->Eel==0.12.4->auto-py-to-exe) (4.5.0)\n",
      "Requirement already satisfied: zope.interface in c:\\users\\shobi\\anaconda3\\lib\\site-packages (from gevent->gevent-websocket->bottle-websocket->Eel==0.12.4->auto-py-to-exe) (5.3.0)\n",
      "Requirement already satisfied: cffi>=1.12.2 in c:\\users\\shobi\\anaconda3\\lib\\site-packages (from gevent->gevent-websocket->bottle-websocket->Eel==0.12.4->auto-py-to-exe) (1.14.5)\n",
      "Requirement already satisfied: pycparser in c:\\users\\shobi\\anaconda3\\lib\\site-packages (from cffi>=1.12.2->gevent->gevent-websocket->bottle-websocket->Eel==0.12.4->auto-py-to-exe) (2.20)\n",
      "Requirement already satisfied: requests in c:\\users\\shobi\\anaconda3\\lib\\site-packages (2.25.1)\n",
      "Requirement already satisfied: chardet<5,>=3.0.2 in c:\\users\\shobi\\anaconda3\\lib\\site-packages (from requests) (4.0.0)\n",
      "Requirement already satisfied: urllib3<1.27,>=1.21.1 in c:\\users\\shobi\\anaconda3\\lib\\site-packages (from requests) (1.26.4)\n",
      "Requirement already satisfied: certifi>=2017.4.17 in c:\\users\\shobi\\anaconda3\\lib\\site-packages (from requests) (2020.12.5)\n",
      "Requirement already satisfied: idna<3,>=2.5 in c:\\users\\shobi\\anaconda3\\lib\\site-packages (from requests) (2.10)\n",
      "Requirement already satisfied: beautifulsoup4 in c:\\users\\shobi\\anaconda3\\lib\\site-packages (4.9.3)\n",
      "Requirement already satisfied: soupsieve>1.2 in c:\\users\\shobi\\anaconda3\\lib\\site-packages (from beautifulsoup4) (2.2.1)\n"
     ]
    }
   ],
   "source": [
    "!pip install auto-py-to-exe \n",
    "!pip install requests\n",
    "!pip install beautifulsoup4"
   ]
  },
  {
   "cell_type": "code",
   "execution_count": 12,
   "id": "cbce9d95",
   "metadata": {},
   "outputs": [
    {
     "name": "stdout",
     "output_type": "stream",
     "text": [
      "['MCX'] ['10.06AM IST | 21 Sep, 2021'] ['46193.0Per 10 GRMS']\n"
     ]
    }
   ],
   "source": [
    "from bs4 import BeautifulSoup as BS\n",
    "import requests\n",
    "import time\n",
    "date=[]\n",
    "price=[]\n",
    "title=[]\n",
    "def get_price(url):\n",
    "    data=requests.get(url)\n",
    "    soup=BS(data.text,'html.parser')\n",
    "    tit=soup.find(\"p\", class_=\"tabs\").text.strip()\n",
    "    title.append(tit)\n",
    "    dat=soup.find(\"p\", class_=\"datetime\").text.strip()\n",
    "    date.append(dat)\n",
    "    pr=soup.find(\"li\",class_=\"commodityPriceCol\").text.split()\n",
    "    pr=' '.join(pr)\n",
    "    price.append(pr)\n",
    "    return\n",
    "url = \"https://economictimes.indiatimes.com/commoditysummary/symbol-GOLD.cms\"\n",
    "get_price(url)\n",
    "print(f'{title} {date} {price}')\n",
    "time.sleep(10)      "
   ]
  },
  {
   "cell_type": "code",
   "execution_count": null,
   "id": "6ae55da8",
   "metadata": {},
   "outputs": [],
   "source": []
  }
 ],
 "metadata": {
  "kernelspec": {
   "display_name": "Python 3",
   "language": "python",
   "name": "python3"
  },
  "language_info": {
   "codemirror_mode": {
    "name": "ipython",
    "version": 3
   },
   "file_extension": ".py",
   "mimetype": "text/x-python",
   "name": "python",
   "nbconvert_exporter": "python",
   "pygments_lexer": "ipython3",
   "version": "3.8.8"
  }
 },
 "nbformat": 4,
 "nbformat_minor": 5
}
